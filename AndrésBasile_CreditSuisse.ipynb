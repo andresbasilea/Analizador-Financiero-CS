{
  "nbformat": 4,
  "nbformat_minor": 0,
  "metadata": {
    "colab": {
      "name": "AndrésBasile-CreditSuisse.ipynb",
      "provenance": [],
      "collapsed_sections": [],
      "authorship_tag": "ABX9TyP32ot9Wg5EjnawCtnkF/eA",
      "include_colab_link": true
    },
    "kernelspec": {
      "name": "python3",
      "display_name": "Python 3"
    },
    "language_info": {
      "name": "python"
    }
  },
  "cells": [
    {
      "cell_type": "markdown",
      "metadata": {
        "id": "view-in-github",
        "colab_type": "text"
      },
      "source": [
        "<a href=\"https://colab.research.google.com/github/andresbasilea/Analizador-Financiero-CS/blob/main/Andr%C3%A9sBasile_CreditSuisse.ipynb\" target=\"_parent\"><img src=\"https://colab.research.google.com/assets/colab-badge.svg\" alt=\"Open In Colab\"/></a>"
      ]
    },
    {
      "cell_type": "markdown",
      "metadata": {
        "id": "IgW4jWKEoXL-"
      },
      "source": [
        "#Andrés José Basile Álvarez - Analizador De Estados Financieros"
      ]
    },
    {
      "cell_type": "code",
      "metadata": {
        "id": "QSNMkDxDogBf"
      },
      "source": [
        "# Analizador de estados financieros de cualquier empresa.\n",
        "# Se ingresa el nombre de la empresa y se hace web scraping para obtener los estados financieros. A partir de ellos, se realiza\n",
        "# un pequeño análisis.\n",
        "\n",
        "\n",
        "# Fecha de realización: 26/09/21"
      ],
      "execution_count": 1,
      "outputs": []
    },
    {
      "cell_type": "code",
      "metadata": {
        "colab": {
          "base_uri": "https://localhost:8080/"
        },
        "id": "Wo3ryHvrkJr_",
        "outputId": "dbe4528a-8df6-4185-c87e-c2bf43e604a2"
      },
      "source": [
        "!pip install beautifulsoup4\n",
        "!pip install xlsxwriter"
      ],
      "execution_count": 2,
      "outputs": [
        {
          "output_type": "stream",
          "name": "stdout",
          "text": [
            "Requirement already satisfied: beautifulsoup4 in /usr/local/lib/python3.7/dist-packages (4.6.3)\n",
            "Requirement already satisfied: xlsxwriter in /usr/local/lib/python3.7/dist-packages (3.0.1)\n"
          ]
        }
      ]
    },
    {
      "cell_type": "code",
      "metadata": {
        "id": "SX9k8s57kJxP"
      },
      "source": [
        "from bs4 import BeautifulSoup  # Web Scraping\n",
        "import pandas as pd # Análisis de los datos\n",
        "import matplotlib.pyplot as plt # Impresión de los datos (gráficas, ...)\n",
        "import requests # Para obtener el contenido de la página web"
      ],
      "execution_count": 3,
      "outputs": []
    },
    {
      "cell_type": "code",
      "metadata": {
        "id": "VHoRP002c09b"
      },
      "source": [
        "#para descargar la hoja de cálculo generada\n",
        "from google.colab import files"
      ],
      "execution_count": 18,
      "outputs": []
    },
    {
      "cell_type": "markdown",
      "metadata": {
        "id": "yp8qD3QsLqF-"
      },
      "source": [
        "# ¡Bienvenido! \n",
        "\n",
        "### Ingresa el nombre de la empresa que deseas buscar: \n",
        "\n",
        "\n"
      ]
    },
    {
      "cell_type": "code",
      "metadata": {
        "colab": {
          "base_uri": "https://localhost:8080/"
        },
        "id": "m83PVeS2MTED",
        "outputId": "076db52c-ba21-4c31-db2a-12542544d263"
      },
      "source": [
        "empresa = input()\n"
      ],
      "execution_count": 4,
      "outputs": [
        {
          "name": "stdout",
          "output_type": "stream",
          "text": [
            "CS\n"
          ]
        }
      ]
    },
    {
      "cell_type": "code",
      "metadata": {
        "id": "HI4rOqRPzjRU"
      },
      "source": [
        "\n",
        "# LAS DIRECCIONES WEB DONDE SE ENCUENTRA LA INFORMACIÓN DE LOS ESTADOS FINANCIEROS \n",
        "direcciones = {}\n",
        "direcciones['Income Statement'] = f\"https://stockanalysis.com/stocks/{empresa}/financials/\"\n",
        "direcciones['Balance Sheet'] = f\"https://stockanalysis.com/stocks/{empresa}/financials/balance-sheet/\"\n",
        "direcciones['Cash Flow'] = f\"https://stockanalysis.com/stocks/{empresa}/financials/cash-flow-statement/\"\n",
        "direcciones['Ratios'] = f\"https://stockanalysis.com/stocks/{empresa}/financials/ratios/\"\n",
        "\n",
        "\n"
      ],
      "execution_count": 20,
      "outputs": []
    },
    {
      "cell_type": "code",
      "metadata": {
        "colab": {
          "base_uri": "https://localhost:8080/",
          "height": 1000
        },
        "id": "h-Wxg8YO4-w6",
        "outputId": "f600b08b-36a0-4dbd-a859-94942842f483"
      },
      "source": [
        "# path = \"D:\\\\CREDITSUISSE\\\\\"\n",
        "\n",
        "with pd.ExcelWriter('estadosFinancieros' + empresa +'.xlsx',engine='xlsxwriter') as escritor: # Creación de una hoja de cálculo para exportar datos\n",
        "    \n",
        "    # para manejar cada DF por separado posteriormente.\n",
        "    df = []\n",
        "    dfIncome = pd.DataFrame\n",
        "    dfBalance = pd.DataFrame\n",
        "    dfCash = pd.DataFrame\n",
        "    dfRatios = pd.DataFrame\n",
        "\n",
        "    df.append(dfIncome)\n",
        "    df.append(dfBalance)\n",
        "    df.append(dfCash)\n",
        "    df.append(dfRatios)\n",
        "\n",
        "    i=0\n",
        "    for estadoFinanciero in direcciones: #Ciclo for para traer los datos de cada tabla y guardarlos en excel\n",
        "      datos = requests.get(direcciones[estadoFinanciero])\n",
        "      soup = BeautifulSoup(datos.content, 'html.parser')\n",
        "      df[i] = pd.read_html(str(soup),attrs={'id':'financial-table'})[0]\n",
        "      df[i].index=df[i].index+1\n",
        "      df[i].to_excel(escritor, sheet_name=estadoFinanciero)\n",
        "      print(df[i])\n",
        "      i+=1\n",
        "\n",
        "\n",
        "files.download('estadosFinancieros' + empresa +'.xlsx')"
      ],
      "execution_count": 19,
      "outputs": [
        {
          "output_type": "stream",
          "name": "stdout",
          "text": [
            "                          Year     2020     2019  ...     2013     2012     2011\n",
            "1                      Revenue    22389    22484  ...    25856    23611    25891\n",
            "2               Revenue Growth   -0.42%    7.48%  ...    9.51%   -8.81%        -\n",
            "3                 Gross Profit    22389    22484  ...    25856    23611    25891\n",
            "4     Selling, General & Admin    16413    16164  ...    19843    19549    20294\n",
            "5     Other Operating Expenses     1413     1276  ...     1750     1702     1939\n",
            "6           Operating Expenses    17826    17440  ...    21593    21251    22233\n",
            "7             Operating Income     4563     5044  ...     4263     2360     3658\n",
            "8       Other Expense / Income     1093      330  ...      661      546     1049\n",
            "9                Pretax Income     3470     4714  ...     3602     1814     2609\n",
            "10                  Income Tax      801     1295  ...     1276      465      656\n",
            "11                  Net Income     2669     3419  ...     2326     1349     1953\n",
            "12           Net Income Common     2669     3419  ...     2326     1349     1953\n",
            "13           Net Income Growth  -21.94%   68.92%  ...   72.42%  -30.93%        -\n",
            "14  Shares Outstanding (Basic)     2436     2551  ...     1294     1220     1186\n",
            "15                 EPS (Basic)     1.09     1.35  ...     1.18     0.79     1.32\n",
            "16               EPS (Diluted)     1.06     1.32  ...     1.18     0.79     1.32\n",
            "17                  EPS Growth  -19.70%   71.43%  ...   49.37%  -40.15%        -\n",
            "18    Free Cash Flow Per Share    -3.14    -7.72  ...    16.37   -11.38    31.10\n",
            "19          Dividend Per Share     0.15     0.26  ...     0.11     0.85     1.40\n",
            "20             Dividend Growth  -44.32%    1.54%  ...  -87.13%  -38.71%        -\n",
            "21                Gross Margin  100.00%  100.00%  ...  100.00%  100.00%  100.00%\n",
            "22            Operating Margin   20.38%   22.43%  ...   16.49%   10.00%   14.13%\n",
            "23               Profit Margin   11.92%   15.21%  ...    9.00%    5.71%    7.54%\n",
            "24       Free Cash Flow Margin  -34.20%  -87.56%  ...   81.92%  -58.80%  142.50%\n",
            "25          Effective Tax Rate   23.08%   27.47%  ...   35.42%   25.63%   25.14%\n",
            "26                      EBITDA     3470     4714  ...     3602     1814     2609\n",
            "27               EBITDA Margin   15.50%   20.97%  ...   13.93%    7.68%   10.08%\n",
            "28                        EBIT     3470     4714  ...     3602     1814     2609\n",
            "29                 EBIT Margin   15.50%   20.97%  ...   13.93%    7.68%   10.08%\n",
            "\n",
            "[29 rows x 11 columns]\n",
            "                            Year     2020     2019  ...     2013     2012     2011\n",
            "1             Cash & Equivalents   140410   102620  ...    70207    63708   112845\n",
            "2        Cash & Cash Equivalents   140410   102620  ...    70207    63708   112845\n",
            "3                    Cash Growth   36.83%    1.41%  ...   10.20%  -43.54%        -\n",
            "4                    Receivables    35941    35648  ...    52045    45768    43446\n",
            "5           Other Current Assets  -176351  -138268  ...  -122252  -109476  -156291\n",
            "6    Property, Plant & Equipment        0        0  ...     5091     5618     7193\n",
            "7       Goodwill and Intangibles     4663     4954  ...     8209     8632     8879\n",
            "8         Other Long-Term Assets    -4663    -4954  ...   -13300   -14250   -16072\n",
            "9                   Total Assets   805822   787295  ...   872806   924280  1049165\n",
            "10              Accounts Payable    38076    42427  ...    96262    95690   108181\n",
            "11     Other Current Liabilities   -38076   -42427  ...   -96262   -95690  -108181\n",
            "12             Total Liabilities   762881   743581  ...   825640   881996  1008080\n",
            "13                    Total Debt   205806   207923  ...   244267   299496   365330\n",
            "14                   Debt Growth   -1.02%    3.52%  ...  -18.44%  -18.02%        -\n",
            "15                  Common Stock    32993    33279  ...    27778    23230    21755\n",
            "16             Retained Earnings    32834    30634  ...    30261    28171    27053\n",
            "17          Comprehensive Income   -23150   -20269  ...   -15875   -15903   -15134\n",
            "18          Shareholders' Equity    42677    43644  ...    42164    35498    33674\n",
            "19  Total Liabilities and Equity   805558   787225  ...   867804   917494  1041754\n",
            "20               Net Cash / Debt   -65396  -105303  ...  -174060  -235788  -252485\n",
            "21            Net Cash Per Share   -26.84   -41.29  ...  -134.53  -193.22  -212.86\n",
            "22          Book Value Per Share    17.52    17.11  ...    32.59    29.09    28.39\n",
            "\n",
            "[22 rows x 11 columns]\n",
            "                           Year     2020     2019  ...    2013     2012     2011\n",
            "1                    Net Income     2669     3419  ...    2326     1349     1953\n",
            "2    Other Operating Activities    -9183   -21843  ...   19748   -14017    36669\n",
            "3           Operating Cash Flow    -6514   -18424  ...   22074   -12668    38622\n",
            "4    Operating Cash Flow Growth        -        -  ...       -        -        -\n",
            "5          Capital Expenditures    -1143    -1263  ...    -894    -1216    -1728\n",
            "6                  Acquisitions     -210     -285  ...   -1792    -2039    -1782\n",
            "7         Change in Investments    17914     -321  ...   14083    42390   -22679\n",
            "8    Other Investing Activities      113      543  ...     122     3683      222\n",
            "9           Investing Cash Flow    16674    -1326  ...   11519    42818   -25967\n",
            "10               Dividends Paid     -716     -696  ...    -564    -1296    -1948\n",
            "11  Share Issuance / Repurchase     -889    -1912  ...     538     1426     1190\n",
            "12           Debt Issued / Paid     8531    -1027  ...  -46390   -65329     8387\n",
            "13   Other Financing Activities    22814    25824  ...   21995   -12173    25232\n",
            "14          Financing Cash Flow    29740    22189  ...  -24421   -77372    32861\n",
            "15                Net Cash Flow    37233     1832  ...    6929   -48810    45106\n",
            "16               Free Cash Flow    -7657   -19687  ...   21180   -13884    36894\n",
            "17        Free Cash Flow Growth        -        -  ...       -        -        -\n",
            "18        Free Cash Flow Margin  -34.20%  -87.56%  ...  81.92%  -58.80%  142.50%\n",
            "19     Free Cash Flow Per Share    -3.14    -7.72  ...   16.37   -11.38    31.10\n",
            "\n",
            "[19 rows x 11 columns]\n",
            "                        Year     2020     2019  ...    2013     2012     2011\n",
            "1      Market Capitalization    31184    34305  ...   40159    29971    27851\n",
            "2          Market Cap Growth   -9.10%   23.87%  ...  33.99%    7.61%        -\n",
            "3           Enterprise Value   140875   133973  ...  290494   307696   351588\n",
            "4                   PE Ratio    10.28     9.73  ...   15.41    20.33    13.40\n",
            "5                   PS Ratio     1.23     1.48  ...    1.39     1.16     1.01\n",
            "6                   PB Ratio     0.64     0.76  ...    0.85     0.77     0.78\n",
            "7                P/FCF Ratio    -3.58    -1.69  ...    1.69    -1.98     0.71\n",
            "8                P/OCF Ratio    -4.21    -1.81  ...    1.62    -2.16     0.68\n",
            "9             EV/Sales Ratio     5.54     5.78  ...   10.02    11.92    12.75\n",
            "10           EV/EBITDA Ratio    35.73    27.57  ...   71.94   155.20   126.54\n",
            "11             EV/EBIT Ratio    35.73    27.57  ...   71.94   155.20   126.54\n",
            "12              EV/FCF Ratio   -16.19    -6.60  ...   12.23   -20.28     8.95\n",
            "13       Debt / Equity Ratio     4.82     4.76  ...    5.79     8.44    10.85\n",
            "14       Debt / EBITDA Ratio    59.31    44.11  ...   67.81   165.10   140.03\n",
            "15          Debt / FCF Ratio   -26.88   -10.56  ...   11.53   -21.57     9.90\n",
            "16    Return on Equity (ROE)    6.20%    7.80%  ...   6.00%    3.90%    5.80%\n",
            "17    Return on Assets (ROA)    0.30%    0.40%  ...   0.30%    0.10%    0.20%\n",
            "18  Return on Capital (ROIC)    0.40%    0.50%  ...   0.30%    0.10%    0.20%\n",
            "19            Earnings Yield    9.73%   10.27%  ...   6.49%    4.92%    7.47%\n",
            "20                 FCF Yield  -27.90%  -59.16%  ...  59.13%  -50.63%  141.07%\n",
            "21            Dividend Yield    1.15%    1.96%  ...   0.35%    3.48%    5.94%\n",
            "22              Payout Ratio   11.90%   19.00%  ...   8.30%   99.10%   99.30%\n",
            "23  Buyback Yield / Dilution    3.24%    5.75%  ...  -1.50%   -5.20%   -4.55%\n",
            "24  Total Shareholder Return    4.00%    7.54%  ...  -0.99%   -1.28%    1.67%\n",
            "\n",
            "[24 rows x 11 columns]\n"
          ]
        },
        {
          "output_type": "display_data",
          "data": {
            "application/javascript": [
              "\n",
              "    async function download(id, filename, size) {\n",
              "      if (!google.colab.kernel.accessAllowed) {\n",
              "        return;\n",
              "      }\n",
              "      const div = document.createElement('div');\n",
              "      const label = document.createElement('label');\n",
              "      label.textContent = `Downloading \"${filename}\": `;\n",
              "      div.appendChild(label);\n",
              "      const progress = document.createElement('progress');\n",
              "      progress.max = size;\n",
              "      div.appendChild(progress);\n",
              "      document.body.appendChild(div);\n",
              "\n",
              "      const buffers = [];\n",
              "      let downloaded = 0;\n",
              "\n",
              "      const channel = await google.colab.kernel.comms.open(id);\n",
              "      // Send a message to notify the kernel that we're ready.\n",
              "      channel.send({})\n",
              "\n",
              "      for await (const message of channel.messages) {\n",
              "        // Send a message to notify the kernel that we're ready.\n",
              "        channel.send({})\n",
              "        if (message.buffers) {\n",
              "          for (const buffer of message.buffers) {\n",
              "            buffers.push(buffer);\n",
              "            downloaded += buffer.byteLength;\n",
              "            progress.value = downloaded;\n",
              "          }\n",
              "        }\n",
              "      }\n",
              "      const blob = new Blob(buffers, {type: 'application/binary'});\n",
              "      const a = document.createElement('a');\n",
              "      a.href = window.URL.createObjectURL(blob);\n",
              "      a.download = filename;\n",
              "      div.appendChild(a);\n",
              "      a.click();\n",
              "      div.remove();\n",
              "    }\n",
              "  "
            ],
            "text/plain": [
              "<IPython.core.display.Javascript object>"
            ]
          },
          "metadata": {}
        },
        {
          "output_type": "display_data",
          "data": {
            "application/javascript": [
              "download(\"download_12d26e90-870d-4eeb-ab10-5c2a29913f36\", \"estadosFinancierosCS.xlsx\", 16298)"
            ],
            "text/plain": [
              "<IPython.core.display.Javascript object>"
            ]
          },
          "metadata": {}
        }
      ]
    },
    {
      "cell_type": "code",
      "metadata": {
        "id": "Pj0nbsarVuhJ"
      },
      "source": [
        ""
      ],
      "execution_count": null,
      "outputs": []
    }
  ]
}